{
 "cells": [
  {
   "cell_type": "code",
   "execution_count": 5,
   "metadata": {},
   "outputs": [],
   "source": [
    "import numpy as onp\n",
    "import jax.numpy as np\n",
    "from jax import random, vmap\n",
    "from jax.config import config\n",
    "from jax.scipy.special import expit as sigmoid\n",
    "config.update(\"jax_enable_x64\", True)\n",
    "\n",
    "from scipy.optimize import minimize\n",
    "from pyDOE import lhs\n",
    "import matplotlib.pyplot as plt\n",
    "from matplotlib import rc\n",
    "from scipy.interpolate import griddata\n",
    "from sklearn.metrics import confusion_matrix\n",
    "\n",
    "from jaxbo.mcmc_models import MultifidelityGPclassifier\n",
    "from jaxbo.utils import normalize, compute_w_gmm\n",
    "from jaxbo.input_priors import uniform_prior\n",
    "\n",
    "onp.random.seed(1234)"
   ]
  },
  {
   "attachments": {},
   "cell_type": "markdown",
   "metadata": {},
   "source": [
    "## Generate some data"
   ]
  },
  {
   "cell_type": "code",
   "execution_count": 6,
   "metadata": {},
   "outputs": [],
   "source": [
    "def low_fidelity(X):\n",
    "    return (0.45 + np.sin(2.2*X[:,0]*np.pi)/2.5 - X[:,1]) > 0\n",
    "    \n",
    "def high_fidelity(X):\n",
    "    return ( 0.5 + np.sin(2.5*X[:,0]*np.pi)/3 - X[:,1]) > 0\n",
    "    \n",
    "def low_fidelity_boundary(X):\n",
    "    return (0.45 + np.sin(2.2*X[:,0]*np.pi)/2.5)\n",
    "    \n",
    "def high_fidelity_boundary(X):\n",
    "    return (0.5 + np.sin(2.5*X[:,0]*np.pi)/3)"
   ]
  },
  {
   "cell_type": "code",
   "execution_count": 7,
   "metadata": {},
   "outputs": [],
   "source": [
    "D = 2\n",
    "NL = 50 # number of low fidelity points\n",
    "NH = 10 # number of high fidelity points\n",
    "lb = 0.0*np.ones(D)\n",
    "ub = 1.0*np.ones(D)\n",
    "bounds = {'lb': lb, 'ub': ub}\n",
    "p_x = uniform_prior(lb, ub)\n",
    "\n",
    "# Training data\n",
    "XL = lb + (ub - lb)*lhs(D,NL) # generate data with a Latin hypercube desing\n",
    "yL = 1.0*low_fidelity(XL)\n",
    "\n",
    "# to generate the high fidelity data we choose some points\n",
    "# from both of classes in the low fidelity data\n",
    "ind1 = np.where(yL > 0)[0]\n",
    "ind0 = np.where(yL == 0)[0]\n",
    "\n",
    "XH1 = XL[onp.random.choice(ind1, int(NH/2), replace = False)]\n",
    "XH0 = XL[onp.random.choice(ind0, int(NH/2), replace = False)]\n",
    "\n",
    "XH = np.concatenate([XH1, XH0], axis = 0)\n",
    "yH = 1.0*high_fidelity(XH)\n",
    "\n",
    "y = np.concatenate([yL, yH])\n",
    "\n",
    "# Test data\n",
    "nn = 50\n",
    "xx = np.linspace(lb[0], ub[0], nn)\n",
    "yy = np.linspace(lb[1], ub[1], nn)\n",
    "XX, YY = np.meshgrid(xx, yy)\n",
    "X_star = np.concatenate([XX.flatten()[:,None], YY.flatten()[:,None]], axis = 1)\n",
    "y_star = 1.0*high_fidelity(X_star)"
   ]
  },
  {
   "attachments": {},
   "cell_type": "markdown",
   "metadata": {},
   "source": [
    "## Model setup"
   ]
  },
  {
   "cell_type": "code",
   "execution_count": 8,
   "metadata": {},
   "outputs": [],
   "source": [
    "options = {'kernel': 'RBF',\n",
    "           'criterion': 'CLSF', \n",
    "           'input_prior': p_x,\n",
    "           'kappa': 1.0,\n",
    "           'nIter': 0}\n",
    "mcmc_settings = {'num_warmup': 500,\n",
    "                 'num_samples': 20,\n",
    "                 'num_chains': 1,\n",
    "                 'target_accept_prob': 0.9}\n",
    "gp_model = MultifidelityGPclassifier(options)"
   ]
  },
  {
   "attachments": {},
   "cell_type": "markdown",
   "metadata": {},
   "source": [
    "## Training"
   ]
  },
  {
   "cell_type": "code",
   "execution_count": 9,
   "metadata": {},
   "outputs": [
    {
     "name": "stdout",
     "output_type": "stream",
     "text": [
      "Train GP...\n"
     ]
    },
    {
     "name": "stderr",
     "output_type": "stream",
     "text": [
      "sample: 100%|██████████| 520/520 [00:09<00:00, 52.95it/s, 127 steps of size 4.90e-02. acc. prob=0.87] \n"
     ]
    },
    {
     "name": "stdout",
     "output_type": "stream",
     "text": [
      "\n",
      "                        mean       std    median      5.0%     95.0%     n_eff     r_hat\n",
      "            beta_H      0.21      0.97     -0.05     -1.25      1.88     12.59      1.03\n",
      "            beta_L      0.15      0.48      0.24     -0.58      0.87      8.80      1.03\n",
      "          eta_H[0]     -0.37      0.50     -0.41     -0.96      0.72     25.79      1.01\n",
      "          eta_H[1]     -0.66      1.34     -1.00     -2.68      1.79     28.85      0.95\n",
      "          eta_H[2]      0.14      0.87      0.01     -1.40      1.24     35.74      0.95\n",
      "          eta_H[3]     -0.13      0.98     -0.09     -1.64      1.69     12.90      0.99\n",
      "          eta_H[4]      0.02      1.06     -0.10     -1.40      1.81     48.19      0.99\n",
      "          eta_H[5]     -0.41      1.16     -0.47     -2.67      1.32     27.83      1.03\n",
      "          eta_H[6]      0.01      0.83     -0.17     -1.09      1.60     33.50      0.95\n",
      "          eta_H[7]     -0.42      1.34     -0.16     -2.57      1.81     13.66      0.95\n",
      "          eta_H[8]     -0.07      0.98     -0.20     -1.62      1.21     23.11      1.06\n",
      "          eta_H[9]      0.04      1.03     -0.18     -1.47      1.47     29.80      1.06\n",
      "          eta_L[0]      0.34      0.22      0.28      0.12      0.78     30.90      0.97\n",
      "          eta_L[1]     -1.12      0.74     -0.97     -2.15      0.18      7.83      1.18\n",
      "          eta_L[2]     -0.19      0.37     -0.30     -0.80      0.40      7.90      1.14\n",
      "          eta_L[3]      0.32      0.42      0.41     -0.36      0.90      9.21      1.08\n",
      "          eta_L[4]     -1.81      0.65     -1.67     -2.89     -0.78     25.67      0.95\n",
      "          eta_L[5]     -0.32      0.75     -0.14     -1.54      0.62     30.49      0.97\n",
      "          eta_L[6]      0.57      0.55      0.59     -0.30      1.40      5.99      1.19\n",
      "          eta_L[7]      1.91      0.84      1.90      0.91      3.40     10.85      1.10\n",
      "          eta_L[8]      0.19      0.80      0.28     -1.31      1.50     20.97      1.00\n",
      "          eta_L[9]     -0.15      1.13     -0.02     -2.30      1.35      6.78      1.15\n",
      "         eta_L[10]      0.19      0.51      0.15     -0.47      1.22     13.73      0.95\n",
      "         eta_L[11]     -0.70      0.75     -0.84     -1.75      0.81     12.44      0.97\n",
      "         eta_L[12]      0.02      0.72      0.10     -1.03      1.28     40.14      0.96\n",
      "         eta_L[13]     -0.69      0.98     -0.76     -2.21      0.77     20.26      1.10\n",
      "         eta_L[14]     -0.78      0.57     -0.77     -1.87     -0.04     16.59      0.95\n",
      "         eta_L[15]      0.61      0.83      0.59     -0.53      2.10     16.31      0.98\n",
      "         eta_L[16]     -0.25      1.07     -0.52     -1.22      2.07     41.43      0.95\n",
      "         eta_L[17]     -0.28      0.86     -0.30     -1.52      0.90      7.11      1.13\n",
      "         eta_L[18]     -0.09      1.08      0.09     -1.43      2.10     53.43      0.98\n",
      "         eta_L[19]     -0.19      0.77     -0.23     -1.52      1.20     14.31      0.97\n",
      "         eta_L[20]      0.13      0.95      0.43     -1.34      1.46      9.67      1.05\n",
      "         eta_L[21]     -0.07      0.69     -0.14     -1.17      1.07     10.23      1.11\n",
      "         eta_L[22]      0.59      1.05      0.57     -0.89      1.87      5.92      1.15\n",
      "         eta_L[23]      0.29      0.75      0.43     -1.18      1.38     17.31      1.13\n",
      "         eta_L[24]      0.04      0.70     -0.16     -0.77      1.30     11.95      1.11\n",
      "         eta_L[25]      0.25      0.65      0.32     -1.39      0.95     21.89      0.96\n",
      "         eta_L[26]     -1.04      1.24     -1.35     -2.56      1.37     66.37      0.95\n",
      "         eta_L[27]     -0.31      0.96     -0.34     -1.71      1.44      6.88      1.24\n",
      "         eta_L[28]      0.08      0.86     -0.15     -1.56      1.15     16.39      1.03\n",
      "         eta_L[29]     -0.43      1.25     -0.61     -2.14      1.71     10.94      1.04\n",
      "         eta_L[30]      0.03      1.14      0.32     -2.28      1.62    -65.79      0.96\n",
      "         eta_L[31]     -0.31      0.87     -0.28     -1.86      0.87     23.39      0.97\n",
      "         eta_L[32]     -0.14      1.31     -0.37     -1.54      2.03     14.98      0.96\n",
      "         eta_L[33]     -0.21      0.80     -0.03     -1.88      0.81      4.81      1.25\n",
      "         eta_L[34]     -0.03      0.89     -0.15     -1.32      1.21     10.83      1.05\n",
      "         eta_L[35]     -0.04      1.21     -0.03     -1.66      2.19      9.47      1.17\n",
      "         eta_L[36]      0.01      1.30      0.12     -2.11      2.11     25.54      1.03\n",
      "         eta_L[37]     -0.08      0.74     -0.13     -1.47      1.27     12.92      1.04\n",
      "         eta_L[38]     -0.28      1.16     -0.45     -1.89      1.46     28.59      0.96\n",
      "         eta_L[39]      0.03      1.00      0.37     -1.89      1.09      6.74      1.16\n",
      "         eta_L[40]     -0.36      0.45     -0.29     -1.07      0.18     38.23      0.97\n",
      "         eta_L[41]     -0.09      0.98     -0.45     -1.18      1.37     26.48      1.02\n",
      "         eta_L[42]      0.37      1.01      0.55     -1.36      1.58     33.65      0.96\n",
      "         eta_L[43]     -0.33      1.03     -0.04     -2.31      0.84      7.17      0.97\n",
      "         eta_L[44]     -0.31      1.28     -0.35     -1.98      2.04      9.51      0.98\n",
      "         eta_L[45]      0.32      0.88      0.28     -0.91      2.22     22.19      1.03\n",
      "         eta_L[46]     -0.10      0.87     -0.12     -1.80      1.11     12.52      0.96\n",
      "         eta_L[47]      0.17      0.93     -0.02     -0.99      1.70     14.54      0.95\n",
      "         eta_L[48]      0.05      0.52      0.15     -0.78      0.97     14.36      0.95\n",
      "         eta_L[49]     -0.16      0.95     -0.28     -1.45      2.06     41.07      0.97\n",
      "kernel_length_H[0]      0.75      0.59      0.47      0.20      1.83     17.10      0.98\n",
      "kernel_length_H[1]      1.52      1.45      0.89      0.41      4.39     10.61      1.05\n",
      "kernel_length_L[0]      0.23      0.04      0.23      0.18      0.30     11.92      0.98\n",
      "kernel_length_L[1]      0.44      0.14      0.43      0.19      0.62      8.92      1.12\n",
      "   kernel_var_H[0]      1.30      1.03      0.83      0.12      3.57     19.98      1.02\n",
      "   kernel_var_L[0]     17.90     17.09     14.46      3.19     61.51      8.86      1.08\n",
      "            rho[0]      6.24      4.67      5.18      0.45     15.22     14.28      1.11\n",
      "\n",
      "Number of divergences: 0\n"
     ]
    }
   ],
   "source": [
    "rng_key = random.PRNGKey(123)\n",
    "data = {'XL': XL, 'XH': XH, 'y': y}\n",
    "print('Train GP...')\n",
    "key_train, key_test = random.split(rng_key)\n",
    "samples = gp_model.train(data,\n",
    "                         key_train,\n",
    "                         mcmc_settings,\n",
    "                         verbose = True)"
   ]
  },
  {
   "cell_type": "code",
   "execution_count": 10,
   "metadata": {},
   "outputs": [
    {
     "name": "stdout",
     "output_type": "stream",
     "text": [
      "Classification accuracy: 0.892400%\n"
     ]
    }
   ],
   "source": [
    "# Compute predictions\n",
    "rng_keys = random.split(key_test, \n",
    "                        mcmc_settings['num_samples'] * mcmc_settings['num_chains'])\n",
    "kwargs = {'samples': samples,\n",
    "          'batch': data,\n",
    "          'bounds': bounds,\n",
    "          'rng_key': key_test,\n",
    "          'rng_keys': rng_keys}\n",
    "mean, std = gp_model.predict(X_star, **kwargs)\n",
    "acq_fn = lambda x: gp_model.acquisition(x, **kwargs)\n",
    "acq = vmap(acq_fn)(X_star)\n",
    "new_X = gp_model.compute_next_point_gs(X_star, **kwargs)\n",
    "acc_total = np.sum(np.rint(sigmoid(mean)) == y_star)/y_star.shape[0]\n",
    "print('Classification accuracy: %f%%' % (acc_total))"
   ]
  },
  {
   "cell_type": "code",
   "execution_count": 11,
   "metadata": {},
   "outputs": [
    {
     "data": {
      "image/png": "[encoded data removed]",
      "text/plain": [
       "<Figure size 1080x360 with 6 Axes>"
      ]
     },
     "metadata": {
      "needs_background": "light"
     },
     "output_type": "display_data"
    }
   ],
   "source": [
    "Mplot = mean.reshape(nn,nn)\n",
    "Splot = std.reshape(nn,nn)\n",
    "Aplot = acq.reshape(nn,nn)\n",
    "\n",
    "xx = np.linspace(0, 1, 100)[:,None]\n",
    "\n",
    "plt.figure(figsize=(15,5))\n",
    "plt.subplot(1, 3, 1)\n",
    "plt.contourf(XX, YY, sigmoid(Mplot), cmap=plt.get_cmap('bwr'), vmin=0, vmax=1)\n",
    "plt.colorbar()\n",
    "plt.scatter(XH[:,0], XH[:,1], c = yH)\n",
    "plt.plot(xx , high_fidelity_boundary(xx), 'k', label = 'high-fidelity boundary')\n",
    "plt.title('Posterior Mean')\n",
    "plt.xlim([lb[0], ub[0]])\n",
    "plt.ylim([lb[1], ub[1]])\n",
    "plt.tight_layout()\n",
    "\n",
    "plt.subplot(1, 3, 2)\n",
    "plt.contourf(XX, YY, 2.0*Splot, cmap=plt.get_cmap('Oranges'), vmin=0)\n",
    "plt.colorbar()\n",
    "# plt.scatter(X[:,0], X[:,1], c = y)\n",
    "plt.title('Posterior 2*Std')\n",
    "plt.xlim([lb[0], ub[0]])\n",
    "plt.ylim([lb[1], ub[1]])\n",
    "plt.tight_layout()\n",
    "\n",
    "plt.subplot(1, 3, 3)\n",
    "plt.contourf(XX, YY, Aplot)\n",
    "plt.plot(new_X[0,0], new_X[0,1], 'm*', ms = 12)\n",
    "plt.colorbar()\n",
    "# plt.scatter(X[:,0], X[:,1], c = y)\n",
    "plt.title('Acquisition function')\n",
    "plt.xlim([lb[0], ub[0]])\n",
    "plt.ylim([lb[1], ub[1]])\n",
    "plt.tight_layout()"
   ]
  }
 ],
 "metadata": {
  "kernelspec": {
   "display_name": "Python 3",
   "language": "python",
   "name": "python3"
  },
  "language_info": {
   "codemirror_mode": {
    "name": "ipython",
    "version": 3
   },
   "file_extension": ".py",
   "mimetype": "text/x-python",
   "name": "python",
   "nbconvert_exporter": "python",
   "pygments_lexer": "ipython3",
   "version": "3.9.12"
  }
 },
 "nbformat": 4,
 "nbformat_minor": 4
}
